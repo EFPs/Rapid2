{
 "cells": [
  {
   "cell_type": "code",
   "execution_count": 248,
   "metadata": {
    "collapsed": true
   },
   "outputs": [],
   "source": [
    "import pandas as pd \n",
    "import re\n",
    "import json"
   ]
  },
  {
   "cell_type": "code",
   "execution_count": 252,
   "metadata": {
    "collapsed": false
   },
   "outputs": [
    {
     "data": {
      "text/plain": [
       "(115, 1)"
      ]
     },
     "execution_count": 252,
     "metadata": {},
     "output_type": "execute_result"
    }
   ],
   "source": [
    "df = pd.read_csv('../csv/prereq-cs.csv', encoding='utf-16', delimiter='\\t')\n",
    "myreg = re.compile('(IC.{5})+')\n",
    "split_condition = df.Condition.map(lambda x :  myreg.findall(x) if myreg.findall(x) else None) \n",
    "split_course = df.Course.map(lambda x :  myreg.search(x).group(0) if myreg.search(x) else None)\n",
    "\n",
    "df2 = df\n",
    "df2.Condition = split_condition\n",
    "df2.Course = split_course\n",
    "df2.drop(['UID','Action'],axis=1,inplace=True)\n",
    "df2.drop_duplicates(subset=\"Course\", inplace=True)\n",
    "df2 = df2.set_index('Course')\n",
    "# for s in split:\n",
    "#     for sub in s:\n",
    "#         m  = re.search('(IC.{5})+',sub)\n",
    "#         if m:\n",
    "#             print(m.groups())\n",
    "df2.shape\n",
    "            "
   ]
  },
  {
   "cell_type": "code",
   "execution_count": 251,
   "metadata": {
    "collapsed": false
   },
   "outputs": [],
   "source": [
    "df2.to_json('preq.json', orient='index')\n",
    "\n",
    "# with open('preq.json', 'w') as f:\n",
    "#     json.dump(f, json.loads(df2.to_json(orient='records')), indent=2)"
   ]
  },
  {
   "cell_type": "code",
   "execution_count": null,
   "metadata": {
    "collapsed": true
   },
   "outputs": [],
   "source": []
  },
  {
   "cell_type": "code",
   "execution_count": null,
   "metadata": {
    "collapsed": true
   },
   "outputs": [],
   "source": []
  },
  {
   "cell_type": "code",
   "execution_count": null,
   "metadata": {
    "collapsed": true
   },
   "outputs": [],
   "source": []
  },
  {
   "cell_type": "code",
   "execution_count": null,
   "metadata": {
    "collapsed": true
   },
   "outputs": [],
   "source": []
  }
 ],
 "metadata": {
  "kernelspec": {
   "display_name": "Python 3",
   "language": "python",
   "name": "python3"
  },
  "language_info": {
   "codemirror_mode": {
    "name": "ipython",
    "version": 3
   },
   "file_extension": ".py",
   "mimetype": "text/x-python",
   "name": "python",
   "nbconvert_exporter": "python",
   "pygments_lexer": "ipython3",
   "version": "3.6.0"
  }
 },
 "nbformat": 4,
 "nbformat_minor": 2
}
